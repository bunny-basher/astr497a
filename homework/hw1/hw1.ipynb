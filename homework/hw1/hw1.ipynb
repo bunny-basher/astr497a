{
 "cells": [
  {
   "cell_type": "markdown",
   "metadata": {},
   "source": [
    "# Homework #1\n",
    "\n",
    "**Due:** Apr 24th 2015.\n",
    "\n",
    "**How to submit:** Fork the git repository with this notebook on github. Then clone it and write your homework in an `IPython` notebook in `homeworks/hw1/$NAME`, replacing `$NAME` with your name w/o any spaces (e.g., `homeworks/hw1/MarioJuric`).\n",
    "\n",
    "To submit, issue a pull request. Note: even after you've opened the pull request, you can continue to edit your notebook (add new commits) until the deadline."
   ]
  },
  {
   "cell_type": "markdown",
   "metadata": {},
   "source": [
    "# Problem 1: Plotting with `matplotlib`\n",
    "\n",
    "The file `allsky_sample.csv` contains a randomly selected sample of astronomical sources observed by the Sloan Digital Sky Survey.\n",
    "\n",
    "1. Load the data contained in that file into a numpy structured array (i.e., using the `np.genfromtext` function)\n",
    "\n",
    "2. Use `matplotlib` to produce an $ra$ vs. $dec$ scatter plot of the loaded data. Make sure the right ascension (the x axis) increases from the right to the left, as is the convention in astronomy. Also make sure to label the axes.\n",
    "\n",
    "3. Produce a *density plot* analogous to the scatter plot above above, using the `hexbin` matplotlib function to bin the data. Use 3-degree large hexagons (the `gridsize` argument). Use the `jet` colormap (the `cmap` argument).\n",
    "\n",
    "Some links you will find useful:\n",
    "\n",
    "* http://google.com\n",
    "* http://matplotlib.org/1.4.0/examples/pylab_examples/hexbin_demo.html\n",
    "* http://matplotlib.org/api/pyplot_api.html#matplotlib.pyplot.scatter"
   ]
  },
  {
   "cell_type": "markdown",
   "metadata": {},
   "source": [
    "# Problem 2: Array programming with `numpy`\n",
    "\n",
    "`numpy` can be used to very efficiently perform arithmetic and logical operations on large data sets. To get a sense for what's possible:\n",
    "\n",
    "1. Write a python function that converts equatorial to Galactic coordinates, that can be called as follows:\n",
    "```\n",
    "l, b = equgal(ra, dec)\n",
    "```\n",
    "where `ra`, `dec`, `l`, `b` are all `numpy` arrays. Make sure this function is efficient (i.e., take advantage of `numpy` array element-wise operations, **do not** use `for`-loops).\n",
    "\n",
    "2. Use that function to compute the Galactic coordinates of sources loaded in Problem 1. Make an $l$ vs $b$ scatter plot, analogous to the one in Problem 1.2\n",
    "\n",
    "3. Use the function `numpy.argsort` to efficiently find the 5 objects closest to the Galactic plane. Print the $ra$ and $dec$ for those objects.\n",
    "\n",
    "Useful links:\n",
    "* http://google.com\n",
    "* http://scienceworld.wolfram.com/astronomy/GalacticCoordinates.html (for example)"
   ]
  },
  {
   "cell_type": "markdown",
   "metadata": {},
   "source": [
    "# Problem 3: More advanced `numpy`\n",
    "\n",
    "1. Write a function that computes the great circle (spherical) distances between pairs of objects on the celestial sphere, that can be called as follows:\n",
    "```\n",
    "    dist = gc_dist(lon1, lat1, lon2, lat2)\n",
    "```\n",
    "where `lon1`, `lat1`, and `lon2`, `lat2` are `numpy` arrays with longitudes and latitudes, in degrees, of the first and second objects in the pairs. The return value -- the distance -- must be a `numpy` array of distances, expressed in degrees.\n",
    "\n",
    "2. Load the data found in `small_sdss.csv` file. This file contains the coordinates of all star-like objects detcted by the SDSS in $0 < \\alpha < 0.5$deg and $0 < \\delta < 0.5$deg region of the sky. Make an $ra$ vs $dec$ scatter plot (analogous to the one in Problem 1.2, but apropriately zoomed in to this region).\n",
    "\n",
    "3. Use the `gc_dist` function to compute the pair-wise distances of all sources in the sample (hint: there should be 2,690,040 pairs). Think about how this can be done efficiently, using `numpy`'s *fancy indexing* and functions such as `numpy.triu_indices`.\n",
    "\n",
    "4. Plot the histogram of the distribution of distances between sources in the sample.\n",
    "\n",
    "5. EXTRA CREDIT: Find the distribution (numerically or analytically) that the sources would have if they were randomly distributed.\n",
    "\n",
    "Useful links:\n",
    "* http://google.com\n",
    "* http://en.wikipedia.org/wiki/Great-circle_distance (for example)"
   ]
  }
 ],
 "metadata": {
  "kernelspec": {
   "display_name": "Python 2",
   "language": "python",
   "name": "python2"
  },
  "language_info": {
   "codemirror_mode": {
    "name": "ipython",
    "version": 2
   },
   "file_extension": ".py",
   "mimetype": "text/x-python",
   "name": "python",
   "nbconvert_exporter": "python",
   "pygments_lexer": "ipython2",
   "version": "2.7.9"
  }
 },
 "nbformat": 4,
 "nbformat_minor": 0
}
